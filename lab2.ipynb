{
 "cells": [
  {
   "cell_type": "code",
   "execution_count": 6,
   "metadata": {},
   "outputs": [],
   "source": [
    "import pandas as pd\n",
    "import numpy as np\n",
    "import sklearn\n",
    "import seaborn as sns\n",
    "import matplotlib.pyplot as plt"
   ]
  },
  {
   "cell_type": "code",
   "execution_count": 7,
   "metadata": {},
   "outputs": [],
   "source": [
    "import xgboost as xgb\n"
   ]
  },
  {
   "cell_type": "code",
   "execution_count": 8,
   "metadata": {},
   "outputs": [
    {
     "name": "stdout",
     "output_type": "stream",
     "text": [
      "(2930, 76)\n"
     ]
    },
    {
     "data": {
      "text/html": [
       "<div>\n",
       "<style scoped>\n",
       "    .dataframe tbody tr th:only-of-type {\n",
       "        vertical-align: middle;\n",
       "    }\n",
       "\n",
       "    .dataframe tbody tr th {\n",
       "        vertical-align: top;\n",
       "    }\n",
       "\n",
       "    .dataframe thead th {\n",
       "        text-align: right;\n",
       "    }\n",
       "</style>\n",
       "<table border=\"1\" class=\"dataframe\">\n",
       "  <thead>\n",
       "    <tr style=\"text-align: right;\">\n",
       "      <th></th>\n",
       "      <th>Order</th>\n",
       "      <th>PID</th>\n",
       "      <th>MS SubClass</th>\n",
       "      <th>MS Zoning</th>\n",
       "      <th>Lot Frontage</th>\n",
       "      <th>Lot Area</th>\n",
       "      <th>Street</th>\n",
       "      <th>Lot Shape</th>\n",
       "      <th>Land Contour</th>\n",
       "      <th>Utilities</th>\n",
       "      <th>...</th>\n",
       "      <th>3Ssn Porch</th>\n",
       "      <th>Screen Porch</th>\n",
       "      <th>Fence</th>\n",
       "      <th>Misc Val</th>\n",
       "      <th>Mo Sold</th>\n",
       "      <th>Yr Sold</th>\n",
       "      <th>Sale Type</th>\n",
       "      <th>Sale Condition</th>\n",
       "      <th>SalePrice</th>\n",
       "      <th>HasFence</th>\n",
       "    </tr>\n",
       "  </thead>\n",
       "  <tbody>\n",
       "    <tr>\n",
       "      <th>0</th>\n",
       "      <td>1</td>\n",
       "      <td>526301100</td>\n",
       "      <td>20</td>\n",
       "      <td>RL</td>\n",
       "      <td>141.0</td>\n",
       "      <td>31770</td>\n",
       "      <td>Pave</td>\n",
       "      <td>IR1</td>\n",
       "      <td>Lvl</td>\n",
       "      <td>AllPub</td>\n",
       "      <td>...</td>\n",
       "      <td>0</td>\n",
       "      <td>0</td>\n",
       "      <td>NoFence</td>\n",
       "      <td>0</td>\n",
       "      <td>5</td>\n",
       "      <td>2010</td>\n",
       "      <td>WD</td>\n",
       "      <td>Normal</td>\n",
       "      <td>215000</td>\n",
       "      <td>0</td>\n",
       "    </tr>\n",
       "    <tr>\n",
       "      <th>1</th>\n",
       "      <td>2</td>\n",
       "      <td>526350040</td>\n",
       "      <td>20</td>\n",
       "      <td>RH</td>\n",
       "      <td>80.0</td>\n",
       "      <td>11622</td>\n",
       "      <td>Pave</td>\n",
       "      <td>Reg</td>\n",
       "      <td>Lvl</td>\n",
       "      <td>AllPub</td>\n",
       "      <td>...</td>\n",
       "      <td>0</td>\n",
       "      <td>120</td>\n",
       "      <td>MnPrv</td>\n",
       "      <td>0</td>\n",
       "      <td>6</td>\n",
       "      <td>2010</td>\n",
       "      <td>WD</td>\n",
       "      <td>Normal</td>\n",
       "      <td>105000</td>\n",
       "      <td>1</td>\n",
       "    </tr>\n",
       "    <tr>\n",
       "      <th>2</th>\n",
       "      <td>3</td>\n",
       "      <td>526351010</td>\n",
       "      <td>20</td>\n",
       "      <td>RL</td>\n",
       "      <td>81.0</td>\n",
       "      <td>14267</td>\n",
       "      <td>Pave</td>\n",
       "      <td>IR1</td>\n",
       "      <td>Lvl</td>\n",
       "      <td>AllPub</td>\n",
       "      <td>...</td>\n",
       "      <td>0</td>\n",
       "      <td>0</td>\n",
       "      <td>NoFence</td>\n",
       "      <td>12500</td>\n",
       "      <td>6</td>\n",
       "      <td>2010</td>\n",
       "      <td>WD</td>\n",
       "      <td>Normal</td>\n",
       "      <td>172000</td>\n",
       "      <td>0</td>\n",
       "    </tr>\n",
       "    <tr>\n",
       "      <th>3</th>\n",
       "      <td>4</td>\n",
       "      <td>526353030</td>\n",
       "      <td>20</td>\n",
       "      <td>RL</td>\n",
       "      <td>93.0</td>\n",
       "      <td>11160</td>\n",
       "      <td>Pave</td>\n",
       "      <td>Reg</td>\n",
       "      <td>Lvl</td>\n",
       "      <td>AllPub</td>\n",
       "      <td>...</td>\n",
       "      <td>0</td>\n",
       "      <td>0</td>\n",
       "      <td>NoFence</td>\n",
       "      <td>0</td>\n",
       "      <td>4</td>\n",
       "      <td>2010</td>\n",
       "      <td>WD</td>\n",
       "      <td>Normal</td>\n",
       "      <td>244000</td>\n",
       "      <td>0</td>\n",
       "    </tr>\n",
       "    <tr>\n",
       "      <th>4</th>\n",
       "      <td>5</td>\n",
       "      <td>527105010</td>\n",
       "      <td>60</td>\n",
       "      <td>RL</td>\n",
       "      <td>74.0</td>\n",
       "      <td>13830</td>\n",
       "      <td>Pave</td>\n",
       "      <td>IR1</td>\n",
       "      <td>Lvl</td>\n",
       "      <td>AllPub</td>\n",
       "      <td>...</td>\n",
       "      <td>0</td>\n",
       "      <td>0</td>\n",
       "      <td>MnPrv</td>\n",
       "      <td>0</td>\n",
       "      <td>3</td>\n",
       "      <td>2010</td>\n",
       "      <td>WD</td>\n",
       "      <td>Normal</td>\n",
       "      <td>189900</td>\n",
       "      <td>1</td>\n",
       "    </tr>\n",
       "  </tbody>\n",
       "</table>\n",
       "<p>5 rows × 76 columns</p>\n",
       "</div>"
      ],
      "text/plain": [
       "   Order        PID  MS SubClass MS Zoning  Lot Frontage  Lot Area Street  \\\n",
       "0      1  526301100           20        RL         141.0     31770   Pave   \n",
       "1      2  526350040           20        RH          80.0     11622   Pave   \n",
       "2      3  526351010           20        RL          81.0     14267   Pave   \n",
       "3      4  526353030           20        RL          93.0     11160   Pave   \n",
       "4      5  527105010           60        RL          74.0     13830   Pave   \n",
       "\n",
       "  Lot Shape Land Contour Utilities  ... 3Ssn Porch Screen Porch    Fence  \\\n",
       "0       IR1          Lvl    AllPub  ...          0            0  NoFence   \n",
       "1       Reg          Lvl    AllPub  ...          0          120    MnPrv   \n",
       "2       IR1          Lvl    AllPub  ...          0            0  NoFence   \n",
       "3       Reg          Lvl    AllPub  ...          0            0  NoFence   \n",
       "4       IR1          Lvl    AllPub  ...          0            0    MnPrv   \n",
       "\n",
       "  Misc Val Mo Sold Yr Sold Sale Type  Sale Condition  SalePrice  HasFence  \n",
       "0        0       5    2010       WD           Normal     215000         0  \n",
       "1        0       6    2010       WD           Normal     105000         1  \n",
       "2    12500       6    2010       WD           Normal     172000         0  \n",
       "3        0       4    2010       WD           Normal     244000         0  \n",
       "4        0       3    2010       WD           Normal     189900         1  \n",
       "\n",
       "[5 rows x 76 columns]"
      ]
     },
     "execution_count": 8,
     "metadata": {},
     "output_type": "execute_result"
    }
   ],
   "source": [
    "data = pd.read_csv('cleanedData.csv')\n",
    "print(data.shape)\n",
    "data.head()"
   ]
  },
  {
   "cell_type": "code",
   "execution_count": 10,
   "metadata": {},
   "outputs": [
    {
     "data": {
      "text/html": [
       "<div>\n",
       "<style scoped>\n",
       "    .dataframe tbody tr th:only-of-type {\n",
       "        vertical-align: middle;\n",
       "    }\n",
       "\n",
       "    .dataframe tbody tr th {\n",
       "        vertical-align: top;\n",
       "    }\n",
       "\n",
       "    .dataframe thead th {\n",
       "        text-align: right;\n",
       "    }\n",
       "</style>\n",
       "<table border=\"1\" class=\"dataframe\">\n",
       "  <thead>\n",
       "    <tr style=\"text-align: right;\">\n",
       "      <th></th>\n",
       "      <th>Order</th>\n",
       "      <th>PID</th>\n",
       "      <th>MS SubClass</th>\n",
       "      <th>MS Zoning</th>\n",
       "      <th>Lot Frontage</th>\n",
       "      <th>Lot Area</th>\n",
       "      <th>Street</th>\n",
       "      <th>Lot Shape</th>\n",
       "      <th>Land Contour</th>\n",
       "      <th>Utilities</th>\n",
       "      <th>...</th>\n",
       "      <th>Enclosed Porch</th>\n",
       "      <th>3Ssn Porch</th>\n",
       "      <th>Screen Porch</th>\n",
       "      <th>Fence</th>\n",
       "      <th>Misc Val</th>\n",
       "      <th>Mo Sold</th>\n",
       "      <th>Yr Sold</th>\n",
       "      <th>Sale Type</th>\n",
       "      <th>Sale Condition</th>\n",
       "      <th>HasFence</th>\n",
       "    </tr>\n",
       "  </thead>\n",
       "  <tbody>\n",
       "    <tr>\n",
       "      <th>0</th>\n",
       "      <td>1</td>\n",
       "      <td>526301100</td>\n",
       "      <td>20</td>\n",
       "      <td>RL</td>\n",
       "      <td>141.0</td>\n",
       "      <td>31770</td>\n",
       "      <td>Pave</td>\n",
       "      <td>IR1</td>\n",
       "      <td>Lvl</td>\n",
       "      <td>AllPub</td>\n",
       "      <td>...</td>\n",
       "      <td>0</td>\n",
       "      <td>0</td>\n",
       "      <td>0</td>\n",
       "      <td>NoFence</td>\n",
       "      <td>0</td>\n",
       "      <td>5</td>\n",
       "      <td>2010</td>\n",
       "      <td>WD</td>\n",
       "      <td>Normal</td>\n",
       "      <td>0</td>\n",
       "    </tr>\n",
       "    <tr>\n",
       "      <th>1</th>\n",
       "      <td>2</td>\n",
       "      <td>526350040</td>\n",
       "      <td>20</td>\n",
       "      <td>RH</td>\n",
       "      <td>80.0</td>\n",
       "      <td>11622</td>\n",
       "      <td>Pave</td>\n",
       "      <td>Reg</td>\n",
       "      <td>Lvl</td>\n",
       "      <td>AllPub</td>\n",
       "      <td>...</td>\n",
       "      <td>0</td>\n",
       "      <td>0</td>\n",
       "      <td>120</td>\n",
       "      <td>MnPrv</td>\n",
       "      <td>0</td>\n",
       "      <td>6</td>\n",
       "      <td>2010</td>\n",
       "      <td>WD</td>\n",
       "      <td>Normal</td>\n",
       "      <td>1</td>\n",
       "    </tr>\n",
       "    <tr>\n",
       "      <th>2</th>\n",
       "      <td>3</td>\n",
       "      <td>526351010</td>\n",
       "      <td>20</td>\n",
       "      <td>RL</td>\n",
       "      <td>81.0</td>\n",
       "      <td>14267</td>\n",
       "      <td>Pave</td>\n",
       "      <td>IR1</td>\n",
       "      <td>Lvl</td>\n",
       "      <td>AllPub</td>\n",
       "      <td>...</td>\n",
       "      <td>0</td>\n",
       "      <td>0</td>\n",
       "      <td>0</td>\n",
       "      <td>NoFence</td>\n",
       "      <td>12500</td>\n",
       "      <td>6</td>\n",
       "      <td>2010</td>\n",
       "      <td>WD</td>\n",
       "      <td>Normal</td>\n",
       "      <td>0</td>\n",
       "    </tr>\n",
       "    <tr>\n",
       "      <th>3</th>\n",
       "      <td>4</td>\n",
       "      <td>526353030</td>\n",
       "      <td>20</td>\n",
       "      <td>RL</td>\n",
       "      <td>93.0</td>\n",
       "      <td>11160</td>\n",
       "      <td>Pave</td>\n",
       "      <td>Reg</td>\n",
       "      <td>Lvl</td>\n",
       "      <td>AllPub</td>\n",
       "      <td>...</td>\n",
       "      <td>0</td>\n",
       "      <td>0</td>\n",
       "      <td>0</td>\n",
       "      <td>NoFence</td>\n",
       "      <td>0</td>\n",
       "      <td>4</td>\n",
       "      <td>2010</td>\n",
       "      <td>WD</td>\n",
       "      <td>Normal</td>\n",
       "      <td>0</td>\n",
       "    </tr>\n",
       "    <tr>\n",
       "      <th>4</th>\n",
       "      <td>5</td>\n",
       "      <td>527105010</td>\n",
       "      <td>60</td>\n",
       "      <td>RL</td>\n",
       "      <td>74.0</td>\n",
       "      <td>13830</td>\n",
       "      <td>Pave</td>\n",
       "      <td>IR1</td>\n",
       "      <td>Lvl</td>\n",
       "      <td>AllPub</td>\n",
       "      <td>...</td>\n",
       "      <td>0</td>\n",
       "      <td>0</td>\n",
       "      <td>0</td>\n",
       "      <td>MnPrv</td>\n",
       "      <td>0</td>\n",
       "      <td>3</td>\n",
       "      <td>2010</td>\n",
       "      <td>WD</td>\n",
       "      <td>Normal</td>\n",
       "      <td>1</td>\n",
       "    </tr>\n",
       "  </tbody>\n",
       "</table>\n",
       "<p>5 rows × 75 columns</p>\n",
       "</div>"
      ],
      "text/plain": [
       "   Order        PID  MS SubClass MS Zoning  Lot Frontage  Lot Area Street  \\\n",
       "0      1  526301100           20        RL         141.0     31770   Pave   \n",
       "1      2  526350040           20        RH          80.0     11622   Pave   \n",
       "2      3  526351010           20        RL          81.0     14267   Pave   \n",
       "3      4  526353030           20        RL          93.0     11160   Pave   \n",
       "4      5  527105010           60        RL          74.0     13830   Pave   \n",
       "\n",
       "  Lot Shape Land Contour Utilities  ... Enclosed Porch 3Ssn Porch  \\\n",
       "0       IR1          Lvl    AllPub  ...              0          0   \n",
       "1       Reg          Lvl    AllPub  ...              0          0   \n",
       "2       IR1          Lvl    AllPub  ...              0          0   \n",
       "3       Reg          Lvl    AllPub  ...              0          0   \n",
       "4       IR1          Lvl    AllPub  ...              0          0   \n",
       "\n",
       "  Screen Porch    Fence Misc Val Mo Sold Yr Sold  Sale Type  Sale Condition  \\\n",
       "0            0  NoFence        0       5    2010        WD           Normal   \n",
       "1          120    MnPrv        0       6    2010        WD           Normal   \n",
       "2            0  NoFence    12500       6    2010        WD           Normal   \n",
       "3            0  NoFence        0       4    2010        WD           Normal   \n",
       "4            0    MnPrv        0       3    2010        WD           Normal   \n",
       "\n",
       "   HasFence  \n",
       "0         0  \n",
       "1         1  \n",
       "2         0  \n",
       "3         0  \n",
       "4         1  \n",
       "\n",
       "[5 rows x 75 columns]"
      ]
     },
     "execution_count": 10,
     "metadata": {},
     "output_type": "execute_result"
    }
   ],
   "source": [
    "X, y = data.drop(\"SalePrice\", axis = 'columns'), data['SalePrice']\n",
    "X.head()\n"
   ]
  },
  {
   "cell_type": "code",
   "execution_count": 12,
   "metadata": {},
   "outputs": [],
   "source": [
    "from sklearn.model_selection import train_test_split"
   ]
  },
  {
   "cell_type": "code",
   "execution_count": 16,
   "metadata": {},
   "outputs": [],
   "source": [
    "from sklearn.preprocessing import LabelEncoder\n",
    "from sklearn.metrics import accuracy_score, classification_report\n",
    "from xgboost import XGBClassifier"
   ]
  },
  {
   "cell_type": "code",
   "execution_count": 19,
   "metadata": {},
   "outputs": [
    {
     "data": {
      "image/png": "[encoded data removed]",
      "text/plain": [
       "<Figure size 1000x600 with 1 Axes>"
      ]
     },
     "metadata": {},
     "output_type": "display_data"
    }
   ],
   "source": [
    "plt.figure(figsize=(10,6))\n",
    "plt.hist(data['SalePrice'], bins=30, edgecolor='black')\n",
    "plt.title(\"Distribution of Sale Prices\")\n",
    "plt.xlabel(\"SalePrice ($)\")\n",
    "plt.ylabel(\"Number of Houses\")\n",
    "plt.show()"
   ]
  },
  {
   "cell_type": "code",
   "execution_count": 20,
   "metadata": {},
   "outputs": [
    {
     "data": {
      "text/plain": [
       "SalePrice\n",
       "135000    34\n",
       "140000    33\n",
       "130000    29\n",
       "155000    28\n",
       "145000    26\n",
       "          ..\n",
       "219990     1\n",
       "159895     1\n",
       "187687     1\n",
       "217300     1\n",
       "150900     1\n",
       "Name: count, Length: 1032, dtype: int64"
      ]
     },
     "execution_count": 20,
     "metadata": {},
     "output_type": "execute_result"
    }
   ],
   "source": [
    "data['SalePrice'].value_counts()"
   ]
  },
  {
   "cell_type": "markdown",
   "metadata": {},
   "source": [
    "ideal ar fi sa avem pana in 100 de instante in fiecare bin (30 bins cu numar aproape egal de instante)\n",
    "sau mai mare/mic decat media?\n",
    "sau poate trebuie dupa distributia in 30 de bins facuta in graficul de deasupra?"
   ]
  },
  {
   "cell_type": "code",
   "execution_count": null,
   "metadata": {},
   "outputs": [
    {
     "name": "stdout",
     "output_type": "stream",
     "text": [
      "30\n",
      "['155000', '110000', '170000', '165000', '250000', '147000', '129000', '225000', '158000', '122000', '136500', '118000', '156000', '109500', '239000', '164000', '280000', '106000', '78000', '164500', '185900', '334000', '231000', '245700', '35311', '281213', '337000', '215200', '377426', '412500']\n"
     ]
    }
   ],
   "source": [
    "total = 0 \n",
    "bins = 0\n",
    "lims = [] #limita superioara = valori pana la ....\n",
    "frequency = [] #numarul de valori pana la limita superioara corespunzatoare\n",
    "for i, j in data['SalePrice'].value_counts().items():\n",
    "    if total + j > 100:\n",
    "        bins += 1 \n",
    "        lims.append(str(i))\n",
    "        frequency.append(total)\n",
    "        total = j\n",
    "    else:\n",
    "        total = total + j\n",
    "\n",
    "print(bins)\n",
    "print(lims)"
   ]
  },
  {
   "cell_type": "code",
   "execution_count": 59,
   "metadata": {},
   "outputs": [
    {
     "data": {
      "text/plain": [
       "<BarContainer object of 30 artists>"
      ]
     },
     "metadata": {},
     "output_type": "display_data"
    },
    {
     "data": {
      "image/png": "[encoded data removed]",
      "text/plain": [
       "<Figure size 1400x200 with 1 Axes>"
      ]
     },
     "metadata": {},
     "output_type": "display_data"
    }
   ],
   "source": [
    "x = np.array(lims)\n",
    "y = np.array(frequency)\n",
    "\n",
    "plt.figure(figsize=(14, 2))\n",
    "display(plt.bar(x, y))"
   ]
  },
  {
   "cell_type": "code",
   "execution_count": 14,
   "metadata": {},
   "outputs": [
    {
     "data": {
      "text/plain": [
       "(293, 75)"
      ]
     },
     "execution_count": 14,
     "metadata": {},
     "output_type": "execute_result"
    }
   ],
   "source": [
    "X_train10, X_test10, y_train10, y_test10 = train_test_split(\n",
    "X, y, test_size=0.1, random_state=42)\n",
    "X_test10.shape"
   ]
  },
  {
   "cell_type": "code",
   "execution_count": null,
   "metadata": {},
   "outputs": [
    {
     "ename": "ValueError",
     "evalue": "Invalid classes inferred from unique values of `y`.  Expected: [  0   1   2   3   4   5   6   7   8   9  10  11  12  13  14  15  16  17\n  18  19  20  21  22  23  24  25  26  27  28  29  30  31  32  33  34  35\n  36  37  38  39  40  41  42  43  44  45  46  47  48  49  50  51  52  53\n  54  55  56  57  58  59  60  61  62  63  64  65  66  67  68  69  70  71\n  72  73  74  75  76  77  78  79  80  81  82  83  84  85  86  87  88  89\n  90  91  92  93  94  95  96  97  98  99 100 101 102 103 104 105 106 107\n 108 109 110 111 112 113 114 115 116 117 118 119 120 121 122 123 124 125\n 126 127 128 129 130 131 132 133 134 135 136 137 138 139 140 141 142 143\n 144 145 146 147 148 149 150 151 152 153 154 155 156 157 158 159 160 161\n 162 163 164 165 166 167 168 169 170 171 172 173 174 175 176 177 178 179\n 180 181 182 183 184 185 186 187 188 189 190 191 192 193 194 195 196 197\n 198 199 200 201 202 203 204 205 206 207 208 209 210 211 212 213 214 215\n 216 217 218 219 220 221 222 223 224 225 226 227 228 229 230 231 232 233\n 234 235 236 237 238 239 240 241 242 243 244 245 246 247 248 249 250 251\n 252 253 254 255 256 257 258 259 260 261 262 263 264 265 266 267 268 269\n 270 271 272 273 274 275 276 277 278 279 280 281 282 283 284 285 286 287\n 288 289 290 291 292 293 294 295 296 297 298 299 300 301 302 303 304 305\n 306 307 308 309 310 311 312 313 314 315 316 317 318 319 320 321 322 323\n 324 325 326 327 328 329 330 331 332 333 334 335 336 337 338 339 340 341\n 342 343 344 345 346 347 348 349 350 351 352 353 354 355 356 357 358 359\n 360 361 362 363 364 365 366 367 368 369 370 371 372 373 374 375 376 377\n 378 379 380 381 382 383 384 385 386 387 388 389 390 391 392 393 394 395\n 396 397 398 399 400 401 402 403 404 405 406 407 408 409 410 411 412 413\n 414 415 416 417 418 419 420 421 422 423 424 425 426 427 428 429 430 431\n 432 433 434 435 436 437 438 439 440 441 442 443 444 445 446 447 448 449\n 450 451 452 453 454 455 456 457 458 459 460 461 462 463 464 465 466 467\n 468 469 470 471 472 473 474 475 476 477 478 479 480 481 482 483 484 485\n 486 487 488 489 490 491 492 493 494 495 496 497 498 499 500 501 502 503\n 504 505 506 507 508 509 510 511 512 513 514 515 516 517 518 519 520 521\n 522 523 524 525 526 527 528 529 530 531 532 533 534 535 536 537 538 539\n 540 541 542 543 544 545 546 547 548 549 550 551 552 553 554 555 556 557\n 558 559 560 561 562 563 564 565 566 567 568 569 570 571 572 573 574 575\n 576 577 578 579 580 581 582 583 584 585 586 587 588 589 590 591 592 593\n 594 595 596 597 598 599 600 601 602 603 604 605 606 607 608 609 610 611\n 612 613 614 615 616 617 618 619 620 621 622 623 624 625 626 627 628 629\n 630 631 632 633 634 635 636 637 638 639 640 641 642 643 644 645 646 647\n 648 649 650 651 652 653 654 655 656 657 658 659 660 661 662 663 664 665\n 666 667 668 669 670 671 672 673 674 675 676 677 678 679 680 681 682 683\n 684 685 686 687 688 689 690 691 692 693 694 695 696 697 698 699 700 701\n 702 703 704 705 706 707 708 709 710 711 712 713 714 715 716 717 718 719\n 720 721 722 723 724 725 726 727 728 729 730 731 732 733 734 735 736 737\n 738 739 740 741 742 743 744 745 746 747 748 749 750 751 752 753 754 755\n 756 757 758 759 760 761 762 763 764 765 766 767 768 769 770 771 772 773\n 774 775 776 777 778 779 780 781 782 783 784 785 786 787 788 789 790 791\n 792 793 794 795 796 797 798 799 800 801 802 803 804 805 806 807 808 809\n 810 811 812 813 814 815 816 817 818 819 820 821 822 823 824 825 826 827\n 828 829 830 831 832 833 834 835 836 837 838 839 840 841 842 843 844 845\n 846 847 848 849 850 851 852 853 854 855 856 857 858 859 860 861 862 863\n 864 865 866 867 868 869 870 871 872 873 874 875 876 877 878 879 880 881\n 882 883 884 885 886 887 888 889 890 891 892 893 894 895 896 897 898 899\n 900 901 902 903 904 905 906 907 908 909 910 911 912 913 914 915 916 917\n 918 919 920 921 922 923 924 925 926 927 928 929 930 931 932 933 934 935\n 936 937 938 939 940 941 942 943 944 945 946 947 948 949 950 951 952 953\n 954 955 956 957 958 959 960], got [ 12789  13100  34900  35000  35311  37900  39300  40000  45000  46500\n  50138  51689  52000  52500  55000  55993  57625  58500  60000  61000\n  61500  62383  62500  63000  63900  64000  64500  65000  67000  67500\n  68000  68104  68400  68500  70000  71000  72000  72500  73000  75000\n  75200  75500  76000  76500  78000  78500  79000  79275  79400  79500\n  79900  80000  80400  80500  80900  81000  81300  81400  81500  82000\n  82375  82500  83000  83500  84000  84500  84900  85000  85400  85500\n  86000  86900  87000  87500  87550  88000  89000  89500  89900  90000\n  90350  90500  91000  91300  91500  91900  92000  93000  93369  93500\n  93850  93900  94000  94500  94550  94750  94900  95000  95541  96000\n  96500  96900  97000  97500  97900  98000  98500  98600  99000  99500\n  99600  99800  99900 100000 100500 101000 101800 102000 102776 102900\n 103000 103200 103400 103500 103600 104000 104500 104900 105000 105500\n 105900 106000 106500 106900 107000 107400 107500 107900 108000 108480\n 108500 108538 109000 109008 109500 109900 110000 110500 111000 111250\n 111500 111750 111900 112000 112500 112900 113000 113500 113700 113722\n 114000 114500 114504 114900 115000 115400 116000 116050 116500 116900\n 117000 117500 117600 118000 118400 118500 118858 118900 118964 119000\n 119164 119200 119500 119600 119750 119900 119916 120000 120500 120750\n 120875 121000 121500 121600 122000 122250 122500 122600 122900 123000\n 123500 123900 124000 124100 124400 124500 124900 125000 125200 125500\n 125600 125900 126000 126175 126500 127000 127500 128000 128200 128250\n 128500 128600 128900 128950 129000 129200 129250 129400 129500 129800\n 129900 130000 130250 130500 131000 131250 131400 131500 131750 131900\n 132000 132250 132500 133000 133500 133700 133900 134000 134432 134450\n 134500 134800 134900 135000 135500 135750 135900 135960 136000 136300\n 136500 136870 136900 136905 137000 137250 137450 137500 137900 138000\n 138400 138500 138887 139000 139400 139500 139600 139900 139950 140000\n 140200 140500 140750 141000 141500 142000 142100 142125 142250 142500\n 142600 142900 142953 143000 143195 143250 143450 143500 143750 143900\n 144000 144100 144152 144500 144750 144800 144900 145000 145100 145250\n 145400 145500 145900 146000 146300 146500 146800 146900 147000 147110\n 147400 147500 147900 147983 148000 148325 148400 148500 148800 149000\n 149300 149350 149500 149700 149900 150000 150500 150750 150900 150909\n 151000 151400 151500 152000 152400 152500 153000 153337 153500 153575\n 153600 153900 154000 154204 154300 154400 154500 154900 155000 155500\n 155835 155891 155900 156000 156450 156500 156820 157000 157500 157900\n 158000 158450 158500 158900 159000 159434 159500 159895 159900 159950\n 160000 160200 160250 160500 161000 161500 161750 161900 162000 162500\n 162900 163000 163500 163900 163990 164000 164500 164700 164900 164990\n 165000 165150 165250 165400 165500 165600 166000 166500 166800 167000\n 167240 167300 167500 167800 167840 167900 168000 168165 168500 168675\n 169000 169500 169900 169990 170000 170440 171000 171500 171750 171900\n 171925 172000 172400 172500 172785 172900 173000 173500 173733 174000\n 174500 174850 174900 175000 175500 175900 176000 176400 176432 176500\n 177000 177500 177625 177900 178000 178400 178740 178750 178900 179000\n 179200 179400 179500 179540 179600 179665 179781 179900 180000 180400\n 180500 181000 181134 181316 181500 181755 181900 182000 182900 183000\n 183200 183500 183600 183850 183900 184000 184500 184900 185000 185088\n 185101 185485 185500 185850 185900 186000 186500 186700 186800 187000\n 187100 187500 187687 187750 188000 188500 188700 188900 189000 189500\n 189900 189950 190000 190500 191000 191500 191750 192000 192100 192140\n 192350 192500 193000 193500 193800 193879 194000 194201 194500 194700\n 195000 195400 195500 195800 196000 196500 197000 197500 197600 197900\n 198000 198444 198500 198600 199000 199500 199900 200000 200100 200141\n 200500 200624 200825 201000 201490 201800 202000 202500 202665 202900\n 203000 203135 204000 204750 204900 205000 205950 206000 206300 206580\n 206900 207000 207500 208000 208300 208500 208900 209000 209200 209500\n 209700 210000 210250 210400 211000 211500 212000 212109 212300 212500\n 212700 212900 212999 213000 213250 213490 213500 213750 214000 214500\n 214900 215000 215200 216000 216500 216837 217000 217300 217500 218000\n 218500 218689 218836 219210 219500 219990 220000 221000 221300 221370\n 221500 221800 222000 222500 223000 223500 224000 224243 224500 224900\n 225000 226000 226001 226500 227000 227875 228000 228500 228950 229000\n 229456 229800 230000 230348 230500 231000 231500 231713 232000 232500\n 232600 232698 233000 233170 233230 233500 233555 234000 234250 234500\n 235000 235500 235876 236000 236500 237000 237500 238000 238500 239000\n 239500 239686 239799 239900 240000 240050 240900 241000 241500 241600\n 242000 242500 243000 243500 244000 244400 245000 245350 245500 246000\n 246578 246990 247000 248000 248328 248500 248900 249000 249700 250000\n 250580 250764 251000 252000 252678 253000 253293 254000 254750 254900\n 255000 255500 256000 256300 256900 257000 257076 257500 258000 259000\n 259500 260000 260116 260261 260400 261329 261500 262000 262280 262500\n 263000 263435 263550 264561 264966 265000 265900 265979 266000 266500\n 267000 267300 267916 268000 268500 269500 269790 270000 271000 271500\n 271900 272000 272500 274000 274300 274725 274970 275000 275500 277000\n 277500 278000 279000 279500 279700 279900 280000 280750 281000 281213\n 281500 282000 282500 282922 283463 284000 284500 284700 285000 286000\n 287000 287090 287500 287602 289000 290000 290941 291000 292500 293000\n 293077 293200 294000 294323 294464 294900 295000 295493 296000 297000\n 297900 298236 298751 299800 300000 301000 301500 301600 302000 305000\n 305900 306000 308030 309000 310000 310013 310090 311500 311872 312500\n 313000 314813 315000 315500 315750 316000 316500 316600 317000 317500\n 318000 318061 318750 319500 319900 320000 321000 322400 322500 323262\n 324000 325000 325300 325624 326000 327000 328000 328900 329900 330000\n 332000 332200 333168 334000 335000 336000 336820 336860 337000 338931\n 339750 340000 341000 342000 344133 345000 345474 348000 349265 350000\n 354000 355000 356000 356383 359100 359900 360000 361919 362500 367294\n 369900 370000 370878 370967 372000 372397 372402 372500 373000 374000\n 375000 376162 377426 377500 378000 379000 380000 381000 382500 383000\n 383970 384500 385000 386250 387000 392000 394432 394617 395000 395192\n 398800 401179 402000 404000 405000 405749 410000 412083 412500 415000\n 417500 418000 421250 423000 424870 425000 426000 430000 437154 438780\n 440000 441929 445000 450000 451950 455000 457347 460000 462000 465000\n 466500 468000 470000 475000 479069 485000 500000 500067 535000 538000\n 545224 552000 555000 556581 582933 584500 591587 610000 615000 745000\n 755000]",
     "output_type": "error",
     "traceback": [
      "\u001b[31m---------------------------------------------------------------------------\u001b[39m",
      "\u001b[31mValueError\u001b[39m                                Traceback (most recent call last)",
      "\u001b[36mCell\u001b[39m\u001b[36m \u001b[39m\u001b[32mIn[18]\u001b[39m\u001b[32m, line 3\u001b[39m\n\u001b[32m      1\u001b[39m model = XGBClassifier(n_estimators=\u001b[32m2\u001b[39m, max_depth=\u001b[32m2\u001b[39m, learning_rate=\u001b[32m1\u001b[39m, objective=\u001b[33m'\u001b[39m\u001b[33mbinary:logistic\u001b[39m\u001b[33m'\u001b[39m)\n\u001b[32m----> \u001b[39m\u001b[32m3\u001b[39m \u001b[43mmodel\u001b[49m\u001b[43m.\u001b[49m\u001b[43mfit\u001b[49m\u001b[43m(\u001b[49m\u001b[43mX_train10\u001b[49m\u001b[43m,\u001b[49m\u001b[43m \u001b[49m\u001b[43my_train10\u001b[49m\u001b[43m)\u001b[49m\n",
      "\u001b[36mFile \u001b[39m\u001b[32m~/anaconda3/envs/ml_env/lib/python3.14/site-packages/xgboost/core.py:705\u001b[39m, in \u001b[36mrequire_keyword_args.<locals>.throw_if.<locals>.inner_f\u001b[39m\u001b[34m(*args, **kwargs)\u001b[39m\n\u001b[32m    703\u001b[39m \u001b[38;5;28;01mfor\u001b[39;00m k, arg \u001b[38;5;129;01min\u001b[39;00m \u001b[38;5;28mzip\u001b[39m(sig.parameters, args):\n\u001b[32m    704\u001b[39m     kwargs[k] = arg\n\u001b[32m--> \u001b[39m\u001b[32m705\u001b[39m \u001b[38;5;28;01mreturn\u001b[39;00m \u001b[43mfunc\u001b[49m\u001b[43m(\u001b[49m\u001b[43m*\u001b[49m\u001b[43m*\u001b[49m\u001b[43mkwargs\u001b[49m\u001b[43m)\u001b[49m\n",
      "\u001b[36mFile \u001b[39m\u001b[32m~/anaconda3/envs/ml_env/lib/python3.14/site-packages/xgboost/sklearn.py:1641\u001b[39m, in \u001b[36mXGBClassifier.fit\u001b[39m\u001b[34m(self, X, y, sample_weight, base_margin, eval_set, verbose, xgb_model, sample_weight_eval_set, base_margin_eval_set, feature_weights)\u001b[39m\n\u001b[32m   1636\u001b[39m     expected_classes = \u001b[38;5;28mself\u001b[39m.classes_\n\u001b[32m   1637\u001b[39m \u001b[38;5;28;01mif\u001b[39;00m (\n\u001b[32m   1638\u001b[39m     classes.shape != expected_classes.shape\n\u001b[32m   1639\u001b[39m     \u001b[38;5;129;01mor\u001b[39;00m \u001b[38;5;129;01mnot\u001b[39;00m (classes == expected_classes).all()\n\u001b[32m   1640\u001b[39m ):\n\u001b[32m-> \u001b[39m\u001b[32m1641\u001b[39m     \u001b[38;5;28;01mraise\u001b[39;00m \u001b[38;5;167;01mValueError\u001b[39;00m(\n\u001b[32m   1642\u001b[39m         \u001b[33mf\u001b[39m\u001b[33m\"\u001b[39m\u001b[33mInvalid classes inferred from unique values of `y`.  \u001b[39m\u001b[33m\"\u001b[39m\n\u001b[32m   1643\u001b[39m         \u001b[33mf\u001b[39m\u001b[33m\"\u001b[39m\u001b[33mExpected: \u001b[39m\u001b[38;5;132;01m{\u001b[39;00mexpected_classes\u001b[38;5;132;01m}\u001b[39;00m\u001b[33m, got \u001b[39m\u001b[38;5;132;01m{\u001b[39;00mclasses\u001b[38;5;132;01m}\u001b[39;00m\u001b[33m\"\u001b[39m\n\u001b[32m   1644\u001b[39m     )\n\u001b[32m   1646\u001b[39m params = \u001b[38;5;28mself\u001b[39m.get_xgb_params()\n\u001b[32m   1648\u001b[39m \u001b[38;5;28;01mif\u001b[39;00m \u001b[38;5;28mcallable\u001b[39m(\u001b[38;5;28mself\u001b[39m.objective):\n",
      "\u001b[31mValueError\u001b[39m: Invalid classes inferred from unique values of `y`.  Expected: [  0   1   2   3   4   5   6   7   8   9  10  11  12  13  14  15  16  17\n  18  19  20  21  22  23  24  25  26  27  28  29  30  31  32  33  34  35\n  36  37  38  39  40  41  42  43  44  45  46  47  48  49  50  51  52  53\n  54  55  56  57  58  59  60  61  62  63  64  65  66  67  68  69  70  71\n  72  73  74  75  76  77  78  79  80  81  82  83  84  85  86  87  88  89\n  90  91  92  93  94  95  96  97  98  99 100 101 102 103 104 105 106 107\n 108 109 110 111 112 113 114 115 116 117 118 119 120 121 122 123 124 125\n 126 127 128 129 130 131 132 133 134 135 136 137 138 139 140 141 142 143\n 144 145 146 147 148 149 150 151 152 153 154 155 156 157 158 159 160 161\n 162 163 164 165 166 167 168 169 170 171 172 173 174 175 176 177 178 179\n 180 181 182 183 184 185 186 187 188 189 190 191 192 193 194 195 196 197\n 198 199 200 201 202 203 204 205 206 207 208 209 210 211 212 213 214 215\n 216 217 218 219 220 221 222 223 224 225 226 227 228 229 230 231 232 233\n 234 235 236 237 238 239 240 241 242 243 244 245 246 247 248 249 250 251\n 252 253 254 255 256 257 258 259 260 261 262 263 264 265 266 267 268 269\n 270 271 272 273 274 275 276 277 278 279 280 281 282 283 284 285 286 287\n 288 289 290 291 292 293 294 295 296 297 298 299 300 301 302 303 304 305\n 306 307 308 309 310 311 312 313 314 315 316 317 318 319 320 321 322 323\n 324 325 326 327 328 329 330 331 332 333 334 335 336 337 338 339 340 341\n 342 343 344 345 346 347 348 349 350 351 352 353 354 355 356 357 358 359\n 360 361 362 363 364 365 366 367 368 369 370 371 372 373 374 375 376 377\n 378 379 380 381 382 383 384 385 386 387 388 389 390 391 392 393 394 395\n 396 397 398 399 400 401 402 403 404 405 406 407 408 409 410 411 412 413\n 414 415 416 417 418 419 420 421 422 423 424 425 426 427 428 429 430 431\n 432 433 434 435 436 437 438 439 440 441 442 443 444 445 446 447 448 449\n 450 451 452 453 454 455 456 457 458 459 460 461 462 463 464 465 466 467\n 468 469 470 471 472 473 474 475 476 477 478 479 480 481 482 483 484 485\n 486 487 488 489 490 491 492 493 494 495 496 497 498 499 500 501 502 503\n 504 505 506 507 508 509 510 511 512 513 514 515 516 517 518 519 520 521\n 522 523 524 525 526 527 528 529 530 531 532 533 534 535 536 537 538 539\n 540 541 542 543 544 545 546 547 548 549 550 551 552 553 554 555 556 557\n 558 559 560 561 562 563 564 565 566 567 568 569 570 571 572 573 574 575\n 576 577 578 579 580 581 582 583 584 585 586 587 588 589 590 591 592 593\n 594 595 596 597 598 599 600 601 602 603 604 605 606 607 608 609 610 611\n 612 613 614 615 616 617 618 619 620 621 622 623 624 625 626 627 628 629\n 630 631 632 633 634 635 636 637 638 639 640 641 642 643 644 645 646 647\n 648 649 650 651 652 653 654 655 656 657 658 659 660 661 662 663 664 665\n 666 667 668 669 670 671 672 673 674 675 676 677 678 679 680 681 682 683\n 684 685 686 687 688 689 690 691 692 693 694 695 696 697 698 699 700 701\n 702 703 704 705 706 707 708 709 710 711 712 713 714 715 716 717 718 719\n 720 721 722 723 724 725 726 727 728 729 730 731 732 733 734 735 736 737\n 738 739 740 741 742 743 744 745 746 747 748 749 750 751 752 753 754 755\n 756 757 758 759 760 761 762 763 764 765 766 767 768 769 770 771 772 773\n 774 775 776 777 778 779 780 781 782 783 784 785 786 787 788 789 790 791\n 792 793 794 795 796 797 798 799 800 801 802 803 804 805 806 807 808 809\n 810 811 812 813 814 815 816 817 818 819 820 821 822 823 824 825 826 827\n 828 829 830 831 832 833 834 835 836 837 838 839 840 841 842 843 844 845\n 846 847 848 849 850 851 852 853 854 855 856 857 858 859 860 861 862 863\n 864 865 866 867 868 869 870 871 872 873 874 875 876 877 878 879 880 881\n 882 883 884 885 886 887 888 889 890 891 892 893 894 895 896 897 898 899\n 900 901 902 903 904 905 906 907 908 909 910 911 912 913 914 915 916 917\n 918 919 920 921 922 923 924 925 926 927 928 929 930 931 932 933 934 935\n 936 937 938 939 940 941 942 943 944 945 946 947 948 949 950 951 952 953\n 954 955 956 957 958 959 960], got [ 12789  13100  34900  35000  35311  37900  39300  40000  45000  46500\n  50138  51689  52000  52500  55000  55993  57625  58500  60000  61000\n  61500  62383  62500  63000  63900  64000  64500  65000  67000  67500\n  68000  68104  68400  68500  70000  71000  72000  72500  73000  75000\n  75200  75500  76000  76500  78000  78500  79000  79275  79400  79500\n  79900  80000  80400  80500  80900  81000  81300  81400  81500  82000\n  82375  82500  83000  83500  84000  84500  84900  85000  85400  85500\n  86000  86900  87000  87500  87550  88000  89000  89500  89900  90000\n  90350  90500  91000  91300  91500  91900  92000  93000  93369  93500\n  93850  93900  94000  94500  94550  94750  94900  95000  95541  96000\n  96500  96900  97000  97500  97900  98000  98500  98600  99000  99500\n  99600  99800  99900 100000 100500 101000 101800 102000 102776 102900\n 103000 103200 103400 103500 103600 104000 104500 104900 105000 105500\n 105900 106000 106500 106900 107000 107400 107500 107900 108000 108480\n 108500 108538 109000 109008 109500 109900 110000 110500 111000 111250\n 111500 111750 111900 112000 112500 112900 113000 113500 113700 113722\n 114000 114500 114504 114900 115000 115400 116000 116050 116500 116900\n 117000 117500 117600 118000 118400 118500 118858 118900 118964 119000\n 119164 119200 119500 119600 119750 119900 119916 120000 120500 120750\n 120875 121000 121500 121600 122000 122250 122500 122600 122900 123000\n 123500 123900 124000 124100 124400 124500 124900 125000 125200 125500\n 125600 125900 126000 126175 126500 127000 127500 128000 128200 128250\n 128500 128600 128900 128950 129000 129200 129250 129400 129500 129800\n 129900 130000 130250 130500 131000 131250 131400 131500 131750 131900\n 132000 132250 132500 133000 133500 133700 133900 134000 134432 134450\n 134500 134800 134900 135000 135500 135750 135900 135960 136000 136300\n 136500 136870 136900 136905 137000 137250 137450 137500 137900 138000\n 138400 138500 138887 139000 139400 139500 139600 139900 139950 140000\n 140200 140500 140750 141000 141500 142000 142100 142125 142250 142500\n 142600 142900 142953 143000 143195 143250 143450 143500 143750 143900\n 144000 144100 144152 144500 144750 144800 144900 145000 145100 145250\n 145400 145500 145900 146000 146300 146500 146800 146900 147000 147110\n 147400 147500 147900 147983 148000 148325 148400 148500 148800 149000\n 149300 149350 149500 149700 149900 150000 150500 150750 150900 150909\n 151000 151400 151500 152000 152400 152500 153000 153337 153500 153575\n 153600 153900 154000 154204 154300 154400 154500 154900 155000 155500\n 155835 155891 155900 156000 156450 156500 156820 157000 157500 157900\n 158000 158450 158500 158900 159000 159434 159500 159895 159900 159950\n 160000 160200 160250 160500 161000 161500 161750 161900 162000 162500\n 162900 163000 163500 163900 163990 164000 164500 164700 164900 164990\n 165000 165150 165250 165400 165500 165600 166000 166500 166800 167000\n 167240 167300 167500 167800 167840 167900 168000 168165 168500 168675\n 169000 169500 169900 169990 170000 170440 171000 171500 171750 171900\n 171925 172000 172400 172500 172785 172900 173000 173500 173733 174000\n 174500 174850 174900 175000 175500 175900 176000 176400 176432 176500\n 177000 177500 177625 177900 178000 178400 178740 178750 178900 179000\n 179200 179400 179500 179540 179600 179665 179781 179900 180000 180400\n 180500 181000 181134 181316 181500 181755 181900 182000 182900 183000\n 183200 183500 183600 183850 183900 184000 184500 184900 185000 185088\n 185101 185485 185500 185850 185900 186000 186500 186700 186800 187000\n 187100 187500 187687 187750 188000 188500 188700 188900 189000 189500\n 189900 189950 190000 190500 191000 191500 191750 192000 192100 192140\n 192350 192500 193000 193500 193800 193879 194000 194201 194500 194700\n 195000 195400 195500 195800 196000 196500 197000 197500 197600 197900\n 198000 198444 198500 198600 199000 199500 199900 200000 200100 200141\n 200500 200624 200825 201000 201490 201800 202000 202500 202665 202900\n 203000 203135 204000 204750 204900 205000 205950 206000 206300 206580\n 206900 207000 207500 208000 208300 208500 208900 209000 209200 209500\n 209700 210000 210250 210400 211000 211500 212000 212109 212300 212500\n 212700 212900 212999 213000 213250 213490 213500 213750 214000 214500\n 214900 215000 215200 216000 216500 216837 217000 217300 217500 218000\n 218500 218689 218836 219210 219500 219990 220000 221000 221300 221370\n 221500 221800 222000 222500 223000 223500 224000 224243 224500 224900\n 225000 226000 226001 226500 227000 227875 228000 228500 228950 229000\n 229456 229800 230000 230348 230500 231000 231500 231713 232000 232500\n 232600 232698 233000 233170 233230 233500 233555 234000 234250 234500\n 235000 235500 235876 236000 236500 237000 237500 238000 238500 239000\n 239500 239686 239799 239900 240000 240050 240900 241000 241500 241600\n 242000 242500 243000 243500 244000 244400 245000 245350 245500 246000\n 246578 246990 247000 248000 248328 248500 248900 249000 249700 250000\n 250580 250764 251000 252000 252678 253000 253293 254000 254750 254900\n 255000 255500 256000 256300 256900 257000 257076 257500 258000 259000\n 259500 260000 260116 260261 260400 261329 261500 262000 262280 262500\n 263000 263435 263550 264561 264966 265000 265900 265979 266000 266500\n 267000 267300 267916 268000 268500 269500 269790 270000 271000 271500\n 271900 272000 272500 274000 274300 274725 274970 275000 275500 277000\n 277500 278000 279000 279500 279700 279900 280000 280750 281000 281213\n 281500 282000 282500 282922 283463 284000 284500 284700 285000 286000\n 287000 287090 287500 287602 289000 290000 290941 291000 292500 293000\n 293077 293200 294000 294323 294464 294900 295000 295493 296000 297000\n 297900 298236 298751 299800 300000 301000 301500 301600 302000 305000\n 305900 306000 308030 309000 310000 310013 310090 311500 311872 312500\n 313000 314813 315000 315500 315750 316000 316500 316600 317000 317500\n 318000 318061 318750 319500 319900 320000 321000 322400 322500 323262\n 324000 325000 325300 325624 326000 327000 328000 328900 329900 330000\n 332000 332200 333168 334000 335000 336000 336820 336860 337000 338931\n 339750 340000 341000 342000 344133 345000 345474 348000 349265 350000\n 354000 355000 356000 356383 359100 359900 360000 361919 362500 367294\n 369900 370000 370878 370967 372000 372397 372402 372500 373000 374000\n 375000 376162 377426 377500 378000 379000 380000 381000 382500 383000\n 383970 384500 385000 386250 387000 392000 394432 394617 395000 395192\n 398800 401179 402000 404000 405000 405749 410000 412083 412500 415000\n 417500 418000 421250 423000 424870 425000 426000 430000 437154 438780\n 440000 441929 445000 450000 451950 455000 457347 460000 462000 465000\n 466500 468000 470000 475000 479069 485000 500000 500067 535000 538000\n 545224 552000 555000 556581 582933 584500 591587 610000 615000 745000\n 755000]"
     ]
    }
   ],
   "source": [
    "model = XGBClassifier(n_estimators=2, max_depth=2, learning_rate=1, objective='binary:logistic')\n",
    "\n",
    "model.fit(X_train10, y_train10) #rezolv imediat, tb clase"
   ]
  },
  {
   "cell_type": "code",
   "execution_count": 15,
   "metadata": {},
   "outputs": [
    {
     "data": {
      "text/plain": [
       "(586, 75)"
      ]
     },
     "execution_count": 15,
     "metadata": {},
     "output_type": "execute_result"
    }
   ],
   "source": [
    "X_train20, X_test20, y_train20, y_test20 = train_test_split(\n",
    "X, y, test_size=0.2, random_state=42)\n",
    "X_test20.shape"
   ]
  }
 ],
 "metadata": {
  "kernelspec": {
   "display_name": "ml_env",
   "language": "python",
   "name": "python3"
  },
  "language_info": {
   "codemirror_mode": {
    "name": "ipython",
    "version": 3
   },
   "file_extension": ".py",
   "mimetype": "text/x-python",
   "name": "python",
   "nbconvert_exporter": "python",
   "pygments_lexer": "ipython3",
   "version": "3.14.0"
  }
 },
 "nbformat": 4,
 "nbformat_minor": 2
}
