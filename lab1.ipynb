{
 "cells": [
  {
   "cell_type": "code",
   "execution_count": 1,
   "id": "1230589e",
   "metadata": {},
   "outputs": [],
   "source": [
    "import pandas as pd\n",
    "import numpy as np\n",
    "import sklearn"
   ]
  },
  {
   "cell_type": "code",
   "execution_count": 12,
   "id": "5aadcf71",
   "metadata": {},
   "outputs": [
    {
     "name": "stdout",
     "output_type": "stream",
     "text": [
      "(2930, 82)\n",
      "2732\n"
     ]
    }
   ],
   "source": [
    "data = pd.read_csv('AmesHousing.csv', sep='\\t')\n",
    "print(data.shape)\n",
    "data.head()\n",
    "print(data['Alley'].isnull().sum())"
   ]
  },
  {
   "cell_type": "code",
   "execution_count": null,
   "id": "e95b7861",
   "metadata": {},
   "outputs": [],
   "source": [
    "data['Lot Frontage'].fillna(data['Lot Frontage'].median(), inplace=True)"
   ]
  },
  {
   "cell_type": "code",
   "execution_count": null,
   "id": "b100fa7f",
   "metadata": {},
   "outputs": [],
   "source": [
    "data[data['alley'].isna()]"
   ]
  }
 ],
 "metadata": {
  "kernelspec": {
   "display_name": "ml_venv",
   "language": "python",
   "name": "python3"
  },
  "language_info": {
   "codemirror_mode": {
    "name": "ipython",
    "version": 3
   },
   "file_extension": ".py",
   "mimetype": "text/x-python",
   "name": "python",
   "nbconvert_exporter": "python",
   "pygments_lexer": "ipython3",
   "version": "3.13.7"
  }
 },
 "nbformat": 4,
 "nbformat_minor": 5
}
